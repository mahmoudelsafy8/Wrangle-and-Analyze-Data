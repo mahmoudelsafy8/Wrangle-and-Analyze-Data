{
 "cells": [
  {
   "cell_type": "markdown",
   "metadata": {},
   "source": [
    "## Reporting: wragle_report"
   ]
  },
  {
   "cell_type": "markdown",
   "metadata": {},
   "source": [
    "The dataset that I wrangled, analyzed, and visualized is the tweet archive of Twitter user @dog_rates, also known as WeRateDogs, WeRateDogs is a Twitter account that rates people's dogs with over 4 million followers and has received international media coverage.\n",
    "\n",
    "-To wrangle this dataset I follow the below process:\n",
    "\n",
    "#### 1- Gathering Data:\n",
    "\n",
    "In this step,There are three pieces of data, the first one ('Twitter_archive_enhanced.csv') I downloaded this file manually and read it to be ready for analysis, the second data file is ('image_predictions.tsv') I downloaded this file programmatically using the following URL:'https://d17h27t6h515a5.cloudfront.net/topher/2017/August/599fd2ad_image-predictions/image-predictions.tsv', and read it to be ready for analysis, finally, the last file ('tweet_json.txt') I downloaded programmatically using Twitter Developer account (using the key and token to get Twitter API) and read it to be ready for analysis.\n",
    "\n",
    "#### 2- Assessing Data:\n",
    "\n",
    "After gathering all three pieces of data, assess them visually (displayed and looking into issues) and programmatically (using pandas functions and methods are used to assess the data) for quality and tidiness issues by detecting and documenting nine (10) quality issues and this is not all quality issues and two (2) tidiness issues as below:\n",
    "\n",
    "***Quality issues***\n",
    "\n",
    "1. Delete (181) retweets and (78) replies values.\n",
    "\n",
    "2. Change timeestamp dtype to be datetime.\n",
    "\n",
    "3. Correct invalide names in 'name' column like('a', 'th', 'an',...) and fix the format to uppercase letter.\n",
    "\n",
    "4. Ratings of numerator and denominator containts outliers values.\n",
    "\n",
    "5. Clean 'source' column to be readable easily.\n",
    "\n",
    "6. Drop duplicated image in jpg_url column.\n",
    "\n",
    "7. Change tweet_id dtype to be int.\n",
    "\n",
    "8. Drop unnecessary columns (in_reply,..,retweet_status, ..., expanded, text,..).\n",
    "\n",
    "9. Marge columns p1,p2,p3 to one column and p1_conf,.. to be one column as well.\n",
    "\n",
    "10. Remove the tags '_' form dogs type and fix the format to uppercase letter.\n",
    "\n",
    "***Tidiness issues***\n",
    "\n",
    "1. Marge the dog stage from 4 columns (doggo, floofer, pupper, puppo) to be one column.\n",
    "\n",
    "2. Marge the 3 dataframes to be one dataset.\n",
    "\n",
    "\n",
    "#### 3- Cleaning Data:\n",
    "\n",
    "After assessing all the data, it's time to clean all of the issues I detected and documented with write clear code, and code testing to confirm what we did?, after I made a copy of each piece of a data file from the original data file.\n",
    "\n",
    "-After that previous process I stored all data files to be one main master dataset to be ready to the next step of the project (Analyze (using the functions to ask some questions related the dataset analysis to provide answers that will explore the dataset) and Visualize (using python functions to display the charts to more expline and clear the dataset by visual))."
   ]
  },
  {
   "cell_type": "code",
   "execution_count": null,
   "metadata": {},
   "outputs": [],
   "source": []
  }
 ],
 "metadata": {
  "kernelspec": {
   "display_name": "Python 3",
   "language": "python",
   "name": "python3"
  },
  "language_info": {
   "codemirror_mode": {
    "name": "ipython",
    "version": 3
   },
   "file_extension": ".py",
   "mimetype": "text/x-python",
   "name": "python",
   "nbconvert_exporter": "python",
   "pygments_lexer": "ipython3",
   "version": "3.6.3"
  }
 },
 "nbformat": 4,
 "nbformat_minor": 2
}
